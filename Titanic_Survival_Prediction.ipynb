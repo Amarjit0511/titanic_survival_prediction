{
 "cells": [
  {
   "cell_type": "code",
   "execution_count": 1,
   "id": "e32a9fdb",
   "metadata": {},
   "outputs": [],
   "source": [
    "import pandas as pd\n",
    "import matplotlib.pyplot as plt"
   ]
  },
  {
   "cell_type": "code",
   "execution_count": 2,
   "id": "a12f442b",
   "metadata": {},
   "outputs": [],
   "source": [
    "from sklearn.preprocessing import StandardScaler\n",
    "from sklearn.model_selection import train_test_split\n",
    "from sklearn.linear_model import LogisticRegression\n",
    "from sklearn.svm import SVC\n",
    "import seaborn as sns"
   ]
  },
  {
   "cell_type": "code",
   "execution_count": 3,
   "id": "7da01819",
   "metadata": {},
   "outputs": [],
   "source": [
    "from sklearn.tree import DecisionTreeClassifier\n",
    "from sklearn.ensemble import RandomForestClassifier\n",
    "from sklearn.neighbors import KNeighborsClassifier\n",
    "from sklearn.metrics import confusion_matrix, accuracy_score\n",
    "from sklearn.metrics import precision_score, recall_score, f1_score"
   ]
  },
  {
   "cell_type": "code",
   "execution_count": 4,
   "id": "2fb596ea",
   "metadata": {},
   "outputs": [
    {
     "data": {
      "text/html": [
       "<div>\n",
       "<style scoped>\n",
       "    .dataframe tbody tr th:only-of-type {\n",
       "        vertical-align: middle;\n",
       "    }\n",
       "\n",
       "    .dataframe tbody tr th {\n",
       "        vertical-align: top;\n",
       "    }\n",
       "\n",
       "    .dataframe thead th {\n",
       "        text-align: right;\n",
       "    }\n",
       "</style>\n",
       "<table border=\"1\" class=\"dataframe\">\n",
       "  <thead>\n",
       "    <tr style=\"text-align: right;\">\n",
       "      <th></th>\n",
       "      <th>PassengerId</th>\n",
       "      <th>Survived</th>\n",
       "      <th>Pclass</th>\n",
       "      <th>Name</th>\n",
       "      <th>Sex</th>\n",
       "      <th>Age</th>\n",
       "      <th>SibSp</th>\n",
       "      <th>Parch</th>\n",
       "      <th>Ticket</th>\n",
       "      <th>Fare</th>\n",
       "      <th>Cabin</th>\n",
       "      <th>Embarked</th>\n",
       "    </tr>\n",
       "  </thead>\n",
       "  <tbody>\n",
       "    <tr>\n",
       "      <th>0</th>\n",
       "      <td>892</td>\n",
       "      <td>0</td>\n",
       "      <td>3</td>\n",
       "      <td>Kelly, Mr. James</td>\n",
       "      <td>male</td>\n",
       "      <td>34.5</td>\n",
       "      <td>0</td>\n",
       "      <td>0</td>\n",
       "      <td>330911</td>\n",
       "      <td>7.8292</td>\n",
       "      <td>NaN</td>\n",
       "      <td>Q</td>\n",
       "    </tr>\n",
       "    <tr>\n",
       "      <th>1</th>\n",
       "      <td>893</td>\n",
       "      <td>1</td>\n",
       "      <td>3</td>\n",
       "      <td>Wilkes, Mrs. James (Ellen Needs)</td>\n",
       "      <td>female</td>\n",
       "      <td>47.0</td>\n",
       "      <td>1</td>\n",
       "      <td>0</td>\n",
       "      <td>363272</td>\n",
       "      <td>7.0000</td>\n",
       "      <td>NaN</td>\n",
       "      <td>S</td>\n",
       "    </tr>\n",
       "    <tr>\n",
       "      <th>2</th>\n",
       "      <td>894</td>\n",
       "      <td>0</td>\n",
       "      <td>2</td>\n",
       "      <td>Myles, Mr. Thomas Francis</td>\n",
       "      <td>male</td>\n",
       "      <td>62.0</td>\n",
       "      <td>0</td>\n",
       "      <td>0</td>\n",
       "      <td>240276</td>\n",
       "      <td>9.6875</td>\n",
       "      <td>NaN</td>\n",
       "      <td>Q</td>\n",
       "    </tr>\n",
       "    <tr>\n",
       "      <th>3</th>\n",
       "      <td>895</td>\n",
       "      <td>0</td>\n",
       "      <td>3</td>\n",
       "      <td>Wirz, Mr. Albert</td>\n",
       "      <td>male</td>\n",
       "      <td>27.0</td>\n",
       "      <td>0</td>\n",
       "      <td>0</td>\n",
       "      <td>315154</td>\n",
       "      <td>8.6625</td>\n",
       "      <td>NaN</td>\n",
       "      <td>S</td>\n",
       "    </tr>\n",
       "    <tr>\n",
       "      <th>4</th>\n",
       "      <td>896</td>\n",
       "      <td>1</td>\n",
       "      <td>3</td>\n",
       "      <td>Hirvonen, Mrs. Alexander (Helga E Lindqvist)</td>\n",
       "      <td>female</td>\n",
       "      <td>22.0</td>\n",
       "      <td>1</td>\n",
       "      <td>1</td>\n",
       "      <td>3101298</td>\n",
       "      <td>12.2875</td>\n",
       "      <td>NaN</td>\n",
       "      <td>S</td>\n",
       "    </tr>\n",
       "  </tbody>\n",
       "</table>\n",
       "</div>"
      ],
      "text/plain": [
       "   PassengerId  Survived  Pclass  \\\n",
       "0          892         0       3   \n",
       "1          893         1       3   \n",
       "2          894         0       2   \n",
       "3          895         0       3   \n",
       "4          896         1       3   \n",
       "\n",
       "                                           Name     Sex   Age  SibSp  Parch  \\\n",
       "0                              Kelly, Mr. James    male  34.5      0      0   \n",
       "1              Wilkes, Mrs. James (Ellen Needs)  female  47.0      1      0   \n",
       "2                     Myles, Mr. Thomas Francis    male  62.0      0      0   \n",
       "3                              Wirz, Mr. Albert    male  27.0      0      0   \n",
       "4  Hirvonen, Mrs. Alexander (Helga E Lindqvist)  female  22.0      1      1   \n",
       "\n",
       "    Ticket     Fare Cabin Embarked  \n",
       "0   330911   7.8292   NaN        Q  \n",
       "1   363272   7.0000   NaN        S  \n",
       "2   240276   9.6875   NaN        Q  \n",
       "3   315154   8.6625   NaN        S  \n",
       "4  3101298  12.2875   NaN        S  "
      ]
     },
     "execution_count": 4,
     "metadata": {},
     "output_type": "execute_result"
    }
   ],
   "source": [
    "data = pd.read_csv('tested.csv')\n",
    "data.head()"
   ]
  },
  {
   "cell_type": "code",
   "execution_count": 14,
   "id": "2ef8bcee",
   "metadata": {},
   "outputs": [],
   "source": [
    "data1=data.drop(['Cabin', 'Name','Ticket'], axis=1)"
   ]
  },
  {
   "cell_type": "code",
   "execution_count": 15,
   "id": "505e701b",
   "metadata": {},
   "outputs": [
    {
     "data": {
      "text/plain": [
       "PassengerId    False\n",
       "Survived       False\n",
       "Pclass         False\n",
       "Sex            False\n",
       "Age            False\n",
       "SibSp          False\n",
       "Parch          False\n",
       "Fare           False\n",
       "Embarked       False\n",
       "dtype: bool"
      ]
     },
     "execution_count": 15,
     "metadata": {},
     "output_type": "execute_result"
    }
   ],
   "source": [
    "data1.isnull().any()"
   ]
  },
  {
   "cell_type": "markdown",
   "id": "e04cee37",
   "metadata": {},
   "source": [
    "# Data Preprocessing"
   ]
  },
  {
   "cell_type": "code",
   "execution_count": 17,
   "id": "588c0224",
   "metadata": {},
   "outputs": [
    {
     "data": {
      "text/plain": [
       "PassengerId    False\n",
       "Survived       False\n",
       "Pclass         False\n",
       "Sex            False\n",
       "Age            False\n",
       "SibSp          False\n",
       "Parch          False\n",
       "Fare           False\n",
       "Embarked       False\n",
       "dtype: bool"
      ]
     },
     "execution_count": 17,
     "metadata": {},
     "output_type": "execute_result"
    }
   ],
   "source": [
    "def missing_value(data,col_data):\n",
    "    data1[col_data] = data1[col_data].fillna(data[col_data].mean())\n",
    "missing_value(data,'Age')\n",
    "missing_value(data, 'Fare')\n",
    "#missing_value(data,'Cabin')\n",
    "data1.isnull().any()"
   ]
  },
  {
   "cell_type": "code",
   "execution_count": 18,
   "id": "d4a4d5b6",
   "metadata": {},
   "outputs": [],
   "source": [
    "# converting categorical Columns\n",
    "\n",
    "data.replace({'Sex':{'male':0,'female':1}, 'Embarked':{'S':0,'C':1,'Q':2}}, inplace=True)"
   ]
  },
  {
   "cell_type": "code",
   "execution_count": 19,
   "id": "0487c551",
   "metadata": {},
   "outputs": [
    {
     "data": {
      "text/html": [
       "<div>\n",
       "<style scoped>\n",
       "    .dataframe tbody tr th:only-of-type {\n",
       "        vertical-align: middle;\n",
       "    }\n",
       "\n",
       "    .dataframe tbody tr th {\n",
       "        vertical-align: top;\n",
       "    }\n",
       "\n",
       "    .dataframe thead th {\n",
       "        text-align: right;\n",
       "    }\n",
       "</style>\n",
       "<table border=\"1\" class=\"dataframe\">\n",
       "  <thead>\n",
       "    <tr style=\"text-align: right;\">\n",
       "      <th></th>\n",
       "      <th>PassengerId</th>\n",
       "      <th>Survived</th>\n",
       "      <th>Pclass</th>\n",
       "      <th>Sex</th>\n",
       "      <th>Age</th>\n",
       "      <th>SibSp</th>\n",
       "      <th>Parch</th>\n",
       "      <th>Fare</th>\n",
       "      <th>Embarked</th>\n",
       "    </tr>\n",
       "  </thead>\n",
       "  <tbody>\n",
       "    <tr>\n",
       "      <th>count</th>\n",
       "      <td>418.000000</td>\n",
       "      <td>418.000000</td>\n",
       "      <td>418.000000</td>\n",
       "      <td>418.000000</td>\n",
       "      <td>418.000000</td>\n",
       "      <td>418.000000</td>\n",
       "      <td>418.000000</td>\n",
       "      <td>418.000000</td>\n",
       "      <td>418.000000</td>\n",
       "    </tr>\n",
       "    <tr>\n",
       "      <th>mean</th>\n",
       "      <td>1100.500000</td>\n",
       "      <td>0.363636</td>\n",
       "      <td>2.265550</td>\n",
       "      <td>0.363636</td>\n",
       "      <td>30.272590</td>\n",
       "      <td>0.447368</td>\n",
       "      <td>0.392344</td>\n",
       "      <td>35.627188</td>\n",
       "      <td>0.464115</td>\n",
       "    </tr>\n",
       "    <tr>\n",
       "      <th>std</th>\n",
       "      <td>120.810458</td>\n",
       "      <td>0.481622</td>\n",
       "      <td>0.841838</td>\n",
       "      <td>0.481622</td>\n",
       "      <td>12.634534</td>\n",
       "      <td>0.896760</td>\n",
       "      <td>0.981429</td>\n",
       "      <td>55.840500</td>\n",
       "      <td>0.685516</td>\n",
       "    </tr>\n",
       "    <tr>\n",
       "      <th>min</th>\n",
       "      <td>892.000000</td>\n",
       "      <td>0.000000</td>\n",
       "      <td>1.000000</td>\n",
       "      <td>0.000000</td>\n",
       "      <td>0.170000</td>\n",
       "      <td>0.000000</td>\n",
       "      <td>0.000000</td>\n",
       "      <td>0.000000</td>\n",
       "      <td>0.000000</td>\n",
       "    </tr>\n",
       "    <tr>\n",
       "      <th>25%</th>\n",
       "      <td>996.250000</td>\n",
       "      <td>0.000000</td>\n",
       "      <td>1.000000</td>\n",
       "      <td>0.000000</td>\n",
       "      <td>23.000000</td>\n",
       "      <td>0.000000</td>\n",
       "      <td>0.000000</td>\n",
       "      <td>7.895800</td>\n",
       "      <td>0.000000</td>\n",
       "    </tr>\n",
       "    <tr>\n",
       "      <th>50%</th>\n",
       "      <td>1100.500000</td>\n",
       "      <td>0.000000</td>\n",
       "      <td>3.000000</td>\n",
       "      <td>0.000000</td>\n",
       "      <td>30.272590</td>\n",
       "      <td>0.000000</td>\n",
       "      <td>0.000000</td>\n",
       "      <td>14.454200</td>\n",
       "      <td>0.000000</td>\n",
       "    </tr>\n",
       "    <tr>\n",
       "      <th>75%</th>\n",
       "      <td>1204.750000</td>\n",
       "      <td>1.000000</td>\n",
       "      <td>3.000000</td>\n",
       "      <td>1.000000</td>\n",
       "      <td>35.750000</td>\n",
       "      <td>1.000000</td>\n",
       "      <td>0.000000</td>\n",
       "      <td>31.500000</td>\n",
       "      <td>1.000000</td>\n",
       "    </tr>\n",
       "    <tr>\n",
       "      <th>max</th>\n",
       "      <td>1309.000000</td>\n",
       "      <td>1.000000</td>\n",
       "      <td>3.000000</td>\n",
       "      <td>1.000000</td>\n",
       "      <td>76.000000</td>\n",
       "      <td>8.000000</td>\n",
       "      <td>9.000000</td>\n",
       "      <td>512.329200</td>\n",
       "      <td>2.000000</td>\n",
       "    </tr>\n",
       "  </tbody>\n",
       "</table>\n",
       "</div>"
      ],
      "text/plain": [
       "       PassengerId    Survived      Pclass         Sex         Age  \\\n",
       "count   418.000000  418.000000  418.000000  418.000000  418.000000   \n",
       "mean   1100.500000    0.363636    2.265550    0.363636   30.272590   \n",
       "std     120.810458    0.481622    0.841838    0.481622   12.634534   \n",
       "min     892.000000    0.000000    1.000000    0.000000    0.170000   \n",
       "25%     996.250000    0.000000    1.000000    0.000000   23.000000   \n",
       "50%    1100.500000    0.000000    3.000000    0.000000   30.272590   \n",
       "75%    1204.750000    1.000000    3.000000    1.000000   35.750000   \n",
       "max    1309.000000    1.000000    3.000000    1.000000   76.000000   \n",
       "\n",
       "            SibSp       Parch        Fare    Embarked  \n",
       "count  418.000000  418.000000  418.000000  418.000000  \n",
       "mean     0.447368    0.392344   35.627188    0.464115  \n",
       "std      0.896760    0.981429   55.840500    0.685516  \n",
       "min      0.000000    0.000000    0.000000    0.000000  \n",
       "25%      0.000000    0.000000    7.895800    0.000000  \n",
       "50%      0.000000    0.000000   14.454200    0.000000  \n",
       "75%      1.000000    0.000000   31.500000    1.000000  \n",
       "max      8.000000    9.000000  512.329200    2.000000  "
      ]
     },
     "execution_count": 19,
     "metadata": {},
     "output_type": "execute_result"
    }
   ],
   "source": [
    "data1.describe()"
   ]
  },
  {
   "cell_type": "code",
   "execution_count": 20,
   "id": "53a90c31",
   "metadata": {},
   "outputs": [
    {
     "data": {
      "text/html": [
       "<div>\n",
       "<style scoped>\n",
       "    .dataframe tbody tr th:only-of-type {\n",
       "        vertical-align: middle;\n",
       "    }\n",
       "\n",
       "    .dataframe tbody tr th {\n",
       "        vertical-align: top;\n",
       "    }\n",
       "\n",
       "    .dataframe thead th {\n",
       "        text-align: right;\n",
       "    }\n",
       "</style>\n",
       "<table border=\"1\" class=\"dataframe\">\n",
       "  <thead>\n",
       "    <tr style=\"text-align: right;\">\n",
       "      <th></th>\n",
       "      <th>PassengerId</th>\n",
       "      <th>Survived</th>\n",
       "      <th>Pclass</th>\n",
       "      <th>Sex</th>\n",
       "      <th>Age</th>\n",
       "      <th>SibSp</th>\n",
       "      <th>Parch</th>\n",
       "      <th>Fare</th>\n",
       "      <th>Embarked</th>\n",
       "    </tr>\n",
       "  </thead>\n",
       "  <tbody>\n",
       "    <tr>\n",
       "      <th>PassengerId</th>\n",
       "      <td>1.000000</td>\n",
       "      <td>-0.023245</td>\n",
       "      <td>-0.026751</td>\n",
       "      <td>-0.023245</td>\n",
       "      <td>-0.030874</td>\n",
       "      <td>0.003818</td>\n",
       "      <td>0.043080</td>\n",
       "      <td>0.008209</td>\n",
       "      <td>-0.049863</td>\n",
       "    </tr>\n",
       "    <tr>\n",
       "      <th>Survived</th>\n",
       "      <td>-0.023245</td>\n",
       "      <td>1.000000</td>\n",
       "      <td>-0.108615</td>\n",
       "      <td>1.000000</td>\n",
       "      <td>-0.000011</td>\n",
       "      <td>0.099943</td>\n",
       "      <td>0.159120</td>\n",
       "      <td>0.191382</td>\n",
       "      <td>0.126779</td>\n",
       "    </tr>\n",
       "    <tr>\n",
       "      <th>Pclass</th>\n",
       "      <td>-0.026751</td>\n",
       "      <td>-0.108615</td>\n",
       "      <td>1.000000</td>\n",
       "      <td>-0.108615</td>\n",
       "      <td>-0.440782</td>\n",
       "      <td>0.001087</td>\n",
       "      <td>0.018721</td>\n",
       "      <td>-0.576619</td>\n",
       "      <td>0.031096</td>\n",
       "    </tr>\n",
       "    <tr>\n",
       "      <th>Sex</th>\n",
       "      <td>-0.023245</td>\n",
       "      <td>1.000000</td>\n",
       "      <td>-0.108615</td>\n",
       "      <td>1.000000</td>\n",
       "      <td>-0.000011</td>\n",
       "      <td>0.099943</td>\n",
       "      <td>0.159120</td>\n",
       "      <td>0.191382</td>\n",
       "      <td>0.126779</td>\n",
       "    </tr>\n",
       "    <tr>\n",
       "      <th>Age</th>\n",
       "      <td>-0.030874</td>\n",
       "      <td>-0.000011</td>\n",
       "      <td>-0.440782</td>\n",
       "      <td>-0.000011</td>\n",
       "      <td>1.000000</td>\n",
       "      <td>-0.079535</td>\n",
       "      <td>-0.045073</td>\n",
       "      <td>0.326800</td>\n",
       "      <td>0.089751</td>\n",
       "    </tr>\n",
       "    <tr>\n",
       "      <th>SibSp</th>\n",
       "      <td>0.003818</td>\n",
       "      <td>0.099943</td>\n",
       "      <td>0.001087</td>\n",
       "      <td>0.099943</td>\n",
       "      <td>-0.079535</td>\n",
       "      <td>1.000000</td>\n",
       "      <td>0.306895</td>\n",
       "      <td>0.171488</td>\n",
       "      <td>-0.100603</td>\n",
       "    </tr>\n",
       "    <tr>\n",
       "      <th>Parch</th>\n",
       "      <td>0.043080</td>\n",
       "      <td>0.159120</td>\n",
       "      <td>0.018721</td>\n",
       "      <td>0.159120</td>\n",
       "      <td>-0.045073</td>\n",
       "      <td>0.306895</td>\n",
       "      <td>1.000000</td>\n",
       "      <td>0.230001</td>\n",
       "      <td>-0.125164</td>\n",
       "    </tr>\n",
       "    <tr>\n",
       "      <th>Fare</th>\n",
       "      <td>0.008209</td>\n",
       "      <td>0.191382</td>\n",
       "      <td>-0.576619</td>\n",
       "      <td>0.191382</td>\n",
       "      <td>0.326800</td>\n",
       "      <td>0.171488</td>\n",
       "      <td>0.230001</td>\n",
       "      <td>1.000000</td>\n",
       "      <td>0.053558</td>\n",
       "    </tr>\n",
       "    <tr>\n",
       "      <th>Embarked</th>\n",
       "      <td>-0.049863</td>\n",
       "      <td>0.126779</td>\n",
       "      <td>0.031096</td>\n",
       "      <td>0.126779</td>\n",
       "      <td>0.089751</td>\n",
       "      <td>-0.100603</td>\n",
       "      <td>-0.125164</td>\n",
       "      <td>0.053558</td>\n",
       "      <td>1.000000</td>\n",
       "    </tr>\n",
       "  </tbody>\n",
       "</table>\n",
       "</div>"
      ],
      "text/plain": [
       "             PassengerId  Survived    Pclass       Sex       Age     SibSp  \\\n",
       "PassengerId     1.000000 -0.023245 -0.026751 -0.023245 -0.030874  0.003818   \n",
       "Survived       -0.023245  1.000000 -0.108615  1.000000 -0.000011  0.099943   \n",
       "Pclass         -0.026751 -0.108615  1.000000 -0.108615 -0.440782  0.001087   \n",
       "Sex            -0.023245  1.000000 -0.108615  1.000000 -0.000011  0.099943   \n",
       "Age            -0.030874 -0.000011 -0.440782 -0.000011  1.000000 -0.079535   \n",
       "SibSp           0.003818  0.099943  0.001087  0.099943 -0.079535  1.000000   \n",
       "Parch           0.043080  0.159120  0.018721  0.159120 -0.045073  0.306895   \n",
       "Fare            0.008209  0.191382 -0.576619  0.191382  0.326800  0.171488   \n",
       "Embarked       -0.049863  0.126779  0.031096  0.126779  0.089751 -0.100603   \n",
       "\n",
       "                Parch      Fare  Embarked  \n",
       "PassengerId  0.043080  0.008209 -0.049863  \n",
       "Survived     0.159120  0.191382  0.126779  \n",
       "Pclass       0.018721 -0.576619  0.031096  \n",
       "Sex          0.159120  0.191382  0.126779  \n",
       "Age         -0.045073  0.326800  0.089751  \n",
       "SibSp        0.306895  0.171488 -0.100603  \n",
       "Parch        1.000000  0.230001 -0.125164  \n",
       "Fare         0.230001  1.000000  0.053558  \n",
       "Embarked    -0.125164  0.053558  1.000000  "
      ]
     },
     "execution_count": 20,
     "metadata": {},
     "output_type": "execute_result"
    }
   ],
   "source": [
    "corrM = data1.corr()\n",
    "corrM"
   ]
  },
  {
   "cell_type": "code",
   "execution_count": 21,
   "id": "89475ab6",
   "metadata": {},
   "outputs": [],
   "source": [
    "x = data1.iloc[:,:-1]\n",
    "y = data1.iloc[:,-1]\n",
    "x_scaling = StandardScaler().fit_transform(x)\n",
    "x_train, x_test, y_train, y_test = train_test_split(x_scaling, y, test_size=0.33)"
   ]
  },
  {
   "cell_type": "markdown",
   "id": "a03284f4",
   "metadata": {},
   "source": [
    "# Logistic Regression"
   ]
  },
  {
   "cell_type": "code",
   "execution_count": 101,
   "id": "9a57f378",
   "metadata": {},
   "outputs": [
    {
     "name": "stdout",
     "output_type": "stream",
     "text": [
      "acc DT = 73.80952380952381\n",
      "Precision DT = 0.7380952380952381\n",
      "Recall DT = 0.7380952380952381\n",
      "F1 DT = 0.7380952380952381\n"
     ]
    }
   ],
   "source": [
    "lr=LogisticRegression(max_iter=120,random_state=0, n_jobs=20).fit(x_train, y_train)\n",
    "y_pred_lr=lr.predict(x_test)\n",
    "print('acc DT = {}'.format(accuracy_score(y_test,y_pred_dt)*100))\n",
    "print('Precision DT = {}'.format(precision_score(y_test,y_pred_dt, average='micro')))\n",
    "print('Recall DT = {}'.format(recall_score(y_test,y_pred_dt, average='micro')))\n",
    "print('F1 DT = {}'.format(f1_score(y_test,y_pred_dt, average='micro')))\n",
    "a1=((accuracy_score(y_test,y_pred_dt)*100))"
   ]
  },
  {
   "cell_type": "code",
   "execution_count": 102,
   "id": "618cc1fe",
   "metadata": {},
   "outputs": [
    {
     "data": {
      "text/plain": [
       "<AxesSubplot:>"
      ]
     },
     "execution_count": 102,
     "metadata": {},
     "output_type": "execute_result"
    },
    {
     "data": {
      "image/png": "[encoded data removed]",
      "text/plain": [
       "<Figure size 432x288 with 2 Axes>"
      ]
     },
     "metadata": {
      "needs_background": "light"
     },
     "output_type": "display_data"
    }
   ],
   "source": [
    "conf = confusion_matrix(y_test,y_pred_dt)\n",
    "sns.heatmap(conf,annot=True,fmt='d')"
   ]
  },
  {
   "cell_type": "markdown",
   "id": "96394a79",
   "metadata": {},
   "source": [
    "# Decision Tree Classifier"
   ]
  },
  {
   "cell_type": "code",
   "execution_count": 98,
   "id": "07321b93",
   "metadata": {},
   "outputs": [
    {
     "name": "stdout",
     "output_type": "stream",
     "text": [
      "acc DT = 73.80952380952381\n",
      "Precision DT = 0.7380952380952381\n",
      "Recall DT = 0.7380952380952381\n",
      "F1 DT = 0.7380952380952381\n"
     ]
    }
   ],
   "source": [
    "dt = DecisionTreeClassifier(max_leaf_nodes=6).fit(x_train,y_train)\n",
    "y_pred_dt = dt.predict(x_test)\n",
    "print('acc DT = {}'.format(accuracy_score(y_test,y_pred_dt)*100))\n",
    "print('Precision DT = {}'.format(precision_score(y_test,y_pred_dt, average='micro')))\n",
    "print('Recall DT = {}'.format(recall_score(y_test,y_pred_dt, average='micro')))\n",
    "print('F1 DT = {}'.format(f1_score(y_test,y_pred_dt, average='micro')))\n",
    "a1=((accuracy_score(y_test,y_pred_dt)*100))"
   ]
  },
  {
   "cell_type": "code",
   "execution_count": 23,
   "id": "fd94e894",
   "metadata": {},
   "outputs": [
    {
     "data": {
      "text/plain": [
       "<AxesSubplot:>"
      ]
     },
     "execution_count": 23,
     "metadata": {},
     "output_type": "execute_result"
    },
    {
     "data": {
      "image/png": "[encoded data removed]",
      "text/plain": [
       "<Figure size 432x288 with 2 Axes>"
      ]
     },
     "metadata": {
      "needs_background": "light"
     },
     "output_type": "display_data"
    }
   ],
   "source": [
    "conf = confusion_matrix(y_test,y_pred_dt)\n",
    "sns.heatmap(conf,annot=True,fmt='d')"
   ]
  },
  {
   "cell_type": "markdown",
   "id": "1d4a6ee0",
   "metadata": {},
   "source": [
    "# Support Vector Machines"
   ]
  },
  {
   "cell_type": "code",
   "execution_count": 24,
   "id": "710137f0",
   "metadata": {},
   "outputs": [
    {
     "name": "stdout",
     "output_type": "stream",
     "text": [
      "acc svc poly = 65.21739130434783\n",
      "Precision svc poly = 0.6521739130434783\n",
      "Recall svc poly = 0.6521739130434783\n",
      "f1 svc poly = 0.6521739130434783\n"
     ]
    }
   ],
   "source": [
    "svc_poly = SVC(kernel='poly',degree=6).fit(x_train,y_train)\n",
    "y_pred_svc_poly = svc_poly.predict(x_test)\n",
    "print('acc svc poly = {}'.format(accuracy_score(y_test,y_pred_svc_poly)*100))\n",
    "print('Precision svc poly = {}'.format(precision_score(y_test,y_pred_svc_poly, average='micro')))\n",
    "print('Recall svc poly = {}'.format(recall_score(y_test,y_pred_svc_poly, average='micro')))\n",
    "print('f1 svc poly = {}'.format(f1_score(y_test,y_pred_svc_poly, average='micro')))\n",
    "a2=((accuracy_score(y_test,y_pred_svc_poly)*100))"
   ]
  },
  {
   "cell_type": "code",
   "execution_count": 25,
   "id": "6c30141e",
   "metadata": {},
   "outputs": [
    {
     "data": {
      "text/plain": [
       "<AxesSubplot:>"
      ]
     },
     "execution_count": 25,
     "metadata": {},
     "output_type": "execute_result"
    },
    {
     "data": {
      "image/png": "[encoded data removed]",
      "text/plain": [
       "<Figure size 432x288 with 2 Axes>"
      ]
     },
     "metadata": {
      "needs_background": "light"
     },
     "output_type": "display_data"
    }
   ],
   "source": [
    "conf = confusion_matrix(y_test,y_pred_svc_poly)\n",
    "sns.heatmap(conf,annot=True,fmt='d')"
   ]
  },
  {
   "cell_type": "markdown",
   "id": "599c9417",
   "metadata": {},
   "source": [
    "# Random Forest Classifier"
   ]
  },
  {
   "cell_type": "code",
   "execution_count": 26,
   "id": "e858cddc",
   "metadata": {},
   "outputs": [
    {
     "name": "stdout",
     "output_type": "stream",
     "text": [
      "acc rf = 75.36231884057972\n",
      "Precision rf = 0.7536231884057971\n",
      "Recall rf = 0.7536231884057971\n",
      "f1 rf = 0.7536231884057971\n"
     ]
    }
   ],
   "source": [
    "rf = RandomForestClassifier(criterion='gini',max_depth=10, random_state=0).fit(x_train,y_train)\n",
    "y_pred_rf = rf.predict(x_test) \n",
    "print('acc rf = {}'.format(accuracy_score(y_test,y_pred_rf)*100))\n",
    "print('Precision rf = {}'.format(precision_score(y_test,y_pred_rf, average='micro')))\n",
    "print('Recall rf = {}'.format(recall_score(y_test,y_pred_rf, average='micro')))\n",
    "print('f1 rf = {}'.format(f1_score(y_test,y_pred_rf, average='micro')))\n",
    "a3=((accuracy_score(y_test,y_pred_rf)*100))"
   ]
  },
  {
   "cell_type": "code",
   "execution_count": 27,
   "id": "40c42a44",
   "metadata": {},
   "outputs": [
    {
     "data": {
      "text/plain": [
       "<AxesSubplot:>"
      ]
     },
     "execution_count": 27,
     "metadata": {},
     "output_type": "execute_result"
    },
    {
     "data": {
      "image/png": "[encoded data removed]",
      "text/plain": [
       "<Figure size 432x288 with 2 Axes>"
      ]
     },
     "metadata": {
      "needs_background": "light"
     },
     "output_type": "display_data"
    }
   ],
   "source": [
    "conf = confusion_matrix(y_test,y_pred_rf)\n",
    "sns.heatmap(conf,annot=True,fmt='d')"
   ]
  },
  {
   "cell_type": "code",
   "execution_count": 28,
   "id": "cd1a59ee",
   "metadata": {},
   "outputs": [
    {
     "data": {
      "image/png": "[encoded data removed]",
      "text/plain": [
       "<Figure size 504x360 with 1 Axes>"
      ]
     },
     "metadata": {
      "needs_background": "light"
     },
     "output_type": "display_data"
    }
   ],
   "source": [
    "import matplotlib.pyplot as plt\n",
    "plt.figure(figsize=(7,5))\n",
    "y=['Decision Tree','SVM', 'Random Forest Classifier']\n",
    " \n",
    "# getting values against each value of y\n",
    "x=[a1, a2, a3]\n",
    "plt.bar(y, x)\n",
    " \n",
    "# setting label of y-axis\n",
    "plt.ylabel(\"Accuracy\", fontweight='bold', color = 'black', fontsize='20')\n",
    " \n",
    "# setting label of x-axis\n",
    "plt.xlabel(\"Algorithms\", fontweight='bold', color = 'black', fontsize='20')\n",
    "plt.title(\"Accuracy on changing algorithm\", fontweight='bold', color = 'red', fontsize='24')\n",
    "plt.show()"
   ]
  },
  {
   "cell_type": "markdown",
   "id": "93bb3202",
   "metadata": {},
   "source": [
    "# Ensembling"
   ]
  },
  {
   "cell_type": "code",
   "execution_count": 29,
   "id": "964dcd65",
   "metadata": {},
   "outputs": [
    {
     "name": "stdout",
     "output_type": "stream",
     "text": [
      "Accuracy Score: 73.91304347826086\n",
      "Precision Score: 0.7391304347826086\n",
      "Recall: 0.7391304347826086\n",
      "f1 score: 0.7391304347826085\n"
     ]
    }
   ],
   "source": [
    "from sklearn.ensemble import VotingClassifier\n",
    "clf1=DecisionTreeClassifier()\n",
    "clf2=SVC()\n",
    "clf3=RandomForestClassifier()\n",
    "\n",
    "eclf1=VotingClassifier(estimators=[('Decision Tree Classifier', clf1), ('SVM', clf2), ('RFC', clf3)], voting='hard')\n",
    "eclf1.fit(x_train, y_train)\n",
    "predictions=eclf1.predict(x_test)\n",
    "print(\"Accuracy Score:\",accuracy_score(y_test, predictions)*100)\n",
    "print(\"Precision Score:\", precision_score(y_test, predictions, average='micro'))\n",
    "print(\"Recall:\", recall_score(y_test, predictions, average='micro'))\n",
    "print(\"f1 score:\", f1_score(y_test, predictions, average='micro'))"
   ]
  },
  {
   "cell_type": "code",
   "execution_count": 100,
   "id": "09469d35",
   "metadata": {},
   "outputs": [
    {
     "data": {
      "image/png": "[encoded data removed]",
      "text/plain": [
       "<Figure size 504x360 with 1 Axes>"
      ]
     },
     "metadata": {
      "needs_background": "light"
     },
     "output_type": "display_data"
    }
   ],
   "source": [
    "import matplotlib.pyplot as plt\n",
    "plt.figure(figsize=(7,5))\n",
    "y=['Accuracy Score','Precision Score', 'Accuracy (60:40)', 'Accuracy (50:50)']\n",
    " \n",
    "# getting values against each value of y\n",
    "x=[acc1, acc2, acc3, acc4]\n",
    "plt.bar(y, x)\n",
    " \n",
    "# setting label of y-axis\n",
    "plt.ylabel(\"Accuracy\", fontweight='bold', color = 'black', fontsize='20')\n",
    " \n",
    "# setting label of x-axis\n",
    "plt.xlabel(\"Classification Algorithms\", fontweight='bold', color = 'black', fontsize='20')\n",
    "plt.title(\"Accuracy on changing algorithms\", fontweight='bold', color = 'red', fontsize='24')\n",
    "plt.show()"
   ]
  },
  {
   "cell_type": "markdown",
   "id": "394d8a66",
   "metadata": {},
   "source": [
    "# Hyperparameter Tuning"
   ]
  },
  {
   "cell_type": "markdown",
   "id": "643c4f14",
   "metadata": {},
   "source": [
    "## Tuning Decision Tree"
   ]
  },
  {
   "cell_type": "code",
   "execution_count": 31,
   "id": "1e9f26eb",
   "metadata": {},
   "outputs": [],
   "source": [
    "x = data1.iloc[:,:-1]\n",
    "y = data1.iloc[:,-1]\n",
    "x_scaling = StandardScaler().fit_transform(x)"
   ]
  },
  {
   "cell_type": "markdown",
   "id": "97892c20",
   "metadata": {},
   "source": [
    "### Changing train, test ratio to analyse change in accuracy"
   ]
  },
  {
   "cell_type": "code",
   "execution_count": 32,
   "id": "8d9e87fb",
   "metadata": {},
   "outputs": [
    {
     "data": {
      "text/plain": [
       "71.42857142857143"
      ]
     },
     "execution_count": 32,
     "metadata": {},
     "output_type": "execute_result"
    }
   ],
   "source": [
    "x_train, x_test, y_train, y_test = train_test_split(x_scaling, y, test_size=0.2)\n",
    "t1=DecisionTreeClassifier(criterion='entropy', max_depth=3, random_state=0).fit(x_train,y_train)\n",
    "y_pred_t1 = t1.predict(x_test)\n",
    "dtacc1=accuracy_score(y_test,y_pred_t1)*100\n",
    "dtacc1"
   ]
  },
  {
   "cell_type": "code",
   "execution_count": 33,
   "id": "241f8a2a",
   "metadata": {},
   "outputs": [
    {
     "data": {
      "text/plain": [
       "64.28571428571429"
      ]
     },
     "execution_count": 33,
     "metadata": {},
     "output_type": "execute_result"
    }
   ],
   "source": [
    "x_train, x_test, y_train, y_test = train_test_split(x_scaling, y, test_size=0.3)\n",
    "t2=DecisionTreeClassifier(criterion='entropy', max_depth=3, random_state=0).fit(x_train,y_train)\n",
    "y_pred_t2 = t2.predict(x_test)\n",
    "dtacc2=accuracy_score(y_test,y_pred_t2)*100\n",
    "dtacc2"
   ]
  },
  {
   "cell_type": "code",
   "execution_count": 34,
   "id": "8015790d",
   "metadata": {},
   "outputs": [
    {
     "data": {
      "text/plain": [
       "72.02380952380952"
      ]
     },
     "execution_count": 34,
     "metadata": {},
     "output_type": "execute_result"
    }
   ],
   "source": [
    "x_train, x_test, y_train, y_test = train_test_split(x_scaling, y, test_size=0.4)\n",
    "t3=DecisionTreeClassifier(criterion='entropy', max_depth=3, random_state=0).fit(x_train,y_train)\n",
    "y_pred_t3 = t3.predict(x_test)\n",
    "dtacc3=accuracy_score(y_test,y_pred_t3)*100\n",
    "dtacc3"
   ]
  },
  {
   "cell_type": "code",
   "execution_count": 35,
   "id": "85fe9929",
   "metadata": {},
   "outputs": [
    {
     "data": {
      "image/png": "[encoded data removed]",
      "text/plain": [
       "<Figure size 504x360 with 1 Axes>"
      ]
     },
     "metadata": {
      "needs_background": "light"
     },
     "output_type": "display_data"
    }
   ],
   "source": [
    "import matplotlib.pyplot as plt\n",
    "plt.figure(figsize=(7,5))\n",
    "y=['Accuracy (80:20)','Accuracy (70:30)', 'Accuracy (60:40)']\n",
    " \n",
    "# getting values against each value of y\n",
    "x=[dtacc1, dtacc2, dtacc3]\n",
    "plt.bar(y, x)\n",
    " \n",
    "# setting label of y-axis\n",
    "plt.ylabel(\"Tuning Parameters\", fontweight='bold', color = 'black', fontsize='20')\n",
    " \n",
    "# setting label of x-axis\n",
    "plt.xlabel(\"Accuracy\", fontweight='bold', color = 'black', fontsize='20')\n",
    "plt.title(\"Accuracy on changing train, test ratio in Decison Tree\", fontweight='bold', color = 'red', fontsize='24')\n",
    "plt.show()"
   ]
  },
  {
   "cell_type": "markdown",
   "id": "27d5e277",
   "metadata": {},
   "source": [
    "### Changing the parameter: criterion- entropy, gini"
   ]
  },
  {
   "cell_type": "code",
   "execution_count": 37,
   "id": "54310367",
   "metadata": {},
   "outputs": [],
   "source": [
    "x = data1.iloc[:,:-1]\n",
    "y = data1.iloc[:,-1]\n",
    "x_scaling = StandardScaler().fit_transform(x)\n",
    "x_train, x_test, y_train, y_test = train_test_split(x_scaling, y, test_size=0.3)"
   ]
  },
  {
   "cell_type": "code",
   "execution_count": 38,
   "id": "08bb95b8",
   "metadata": {
    "scrolled": true
   },
   "outputs": [
    {
     "name": "stdout",
     "output_type": "stream",
     "text": [
      "Accuracy using ID3 = 72.22222222222221\n"
     ]
    }
   ],
   "source": [
    "hp1=DecisionTreeClassifier(criterion='entropy', max_depth=3, random_state=0).fit(x_train,y_train)\n",
    "y_pred_hp1 = hp1.predict(x_test)\n",
    "print('Accuracy using ID3 = {}'.format(accuracy_score(y_test,y_pred_hp1)*100))"
   ]
  },
  {
   "cell_type": "code",
   "execution_count": 39,
   "id": "752abf04",
   "metadata": {},
   "outputs": [
    {
     "name": "stdout",
     "output_type": "stream",
     "text": [
      "Accuracy using CART = 80.15873015873017\n"
     ]
    }
   ],
   "source": [
    "hp2=DecisionTreeClassifier(criterion='gini', max_depth=3, random_state=0).fit(x_train,y_train)\n",
    "y_pred_hp2 = dt.predict(x_test)\n",
    "print('Accuracy using CART = {}'.format(accuracy_score(y_test,y_pred_hp2)*100))"
   ]
  },
  {
   "cell_type": "markdown",
   "id": "6100aae6",
   "metadata": {},
   "source": [
    "### Changing the parameter: splitter-best, random"
   ]
  },
  {
   "cell_type": "code",
   "execution_count": 40,
   "id": "8a17f25f",
   "metadata": {},
   "outputs": [
    {
     "name": "stdout",
     "output_type": "stream",
     "text": [
      "Accuracy using ID3 with best splitter = 72.22222222222221\n"
     ]
    }
   ],
   "source": [
    "hp3=DecisionTreeClassifier(criterion='entropy',splitter='best', max_depth=3, random_state=0).fit(x_train,y_train)\n",
    "y_pred_hp3 = hp3.predict(x_test)\n",
    "print('Accuracy using ID3 with best splitter = {}'.format(accuracy_score(y_test,y_pred_hp3)*100))"
   ]
  },
  {
   "cell_type": "code",
   "execution_count": 41,
   "id": "03518d73",
   "metadata": {},
   "outputs": [
    {
     "name": "stdout",
     "output_type": "stream",
     "text": [
      "Accuracy using ID3 with random splitter = 70.63492063492063\n"
     ]
    }
   ],
   "source": [
    "hp4=DecisionTreeClassifier(criterion='entropy',splitter='random', max_depth=3, random_state=0).fit(x_train,y_train)\n",
    "y_pred_hp4 = hp4.predict(x_test)\n",
    "print('Accuracy using ID3 with random splitter = {}'.format(accuracy_score(y_test,y_pred_hp4)*100))"
   ]
  },
  {
   "cell_type": "code",
   "execution_count": 42,
   "id": "20f1e816",
   "metadata": {},
   "outputs": [
    {
     "name": "stdout",
     "output_type": "stream",
     "text": [
      "Accuracy using CART with best splitter  = 79.36507936507937\n"
     ]
    }
   ],
   "source": [
    "hp5=DecisionTreeClassifier(criterion='gini',splitter='best', max_depth=3, random_state=0).fit(x_train,y_train)\n",
    "y_pred_hp5 = hp5.predict(x_test)\n",
    "print('Accuracy using CART with best splitter  = {}'.format(accuracy_score(y_test,y_pred_hp5)*100))"
   ]
  },
  {
   "cell_type": "code",
   "execution_count": 43,
   "id": "a8188ecd",
   "metadata": {},
   "outputs": [
    {
     "name": "stdout",
     "output_type": "stream",
     "text": [
      "Accuracy using CART with random splitter  = 65.07936507936508\n"
     ]
    }
   ],
   "source": [
    "hp6=DecisionTreeClassifier(criterion='gini',splitter='random', max_depth=3, random_state=0).fit(x_train,y_train)\n",
    "y_pred_hp6 = hp6.predict(x_test)\n",
    "print('Accuracy using CART with random splitter  = {}'.format(accuracy_score(y_test,y_pred_hp6)*100))"
   ]
  },
  {
   "cell_type": "markdown",
   "id": "8613766f",
   "metadata": {},
   "source": [
    "### Changing the parameter: max_depth"
   ]
  },
  {
   "cell_type": "code",
   "execution_count": 44,
   "id": "33697c88",
   "metadata": {},
   "outputs": [
    {
     "name": "stdout",
     "output_type": "stream",
     "text": [
      "Accuracy using ID3 with max_depth 4 = 73.80952380952381\n"
     ]
    }
   ],
   "source": [
    "hp7=DecisionTreeClassifier(criterion='entropy', max_depth=4, random_state=0).fit(x_train,y_train)\n",
    "y_pred_hp7 = hp7.predict(x_test)\n",
    "print('Accuracy using ID3 with max_depth 4 = {}'.format(accuracy_score(y_test,y_pred_hp7)*100))"
   ]
  },
  {
   "cell_type": "code",
   "execution_count": 45,
   "id": "33777041",
   "metadata": {},
   "outputs": [
    {
     "name": "stdout",
     "output_type": "stream",
     "text": [
      "Accuracy using ID3 with max_depth 5 = 73.80952380952381\n"
     ]
    }
   ],
   "source": [
    "hp8=DecisionTreeClassifier(criterion='entropy', max_depth=5, random_state=0).fit(x_train,y_train)\n",
    "y_pred_hp8 = hp8.predict(x_test)\n",
    "print('Accuracy using ID3 with max_depth 5 = {}'.format(accuracy_score(y_test,y_pred_hp8)*100))"
   ]
  },
  {
   "cell_type": "code",
   "execution_count": 46,
   "id": "f19148da",
   "metadata": {},
   "outputs": [
    {
     "name": "stdout",
     "output_type": "stream",
     "text": [
      "Accuracy using ID3 with max_depth 6 = 75.39682539682539\n"
     ]
    }
   ],
   "source": [
    "hp9=DecisionTreeClassifier(criterion='entropy', max_depth=6, random_state=0).fit(x_train,y_train)\n",
    "y_pred_hp9 = hp9.predict(x_test)\n",
    "print('Accuracy using ID3 with max_depth 6 = {}'.format(accuracy_score(y_test,y_pred_hp9)*100))"
   ]
  },
  {
   "cell_type": "code",
   "execution_count": 47,
   "id": "7f993aa9",
   "metadata": {},
   "outputs": [
    {
     "name": "stdout",
     "output_type": "stream",
     "text": [
      "Accuracy using CART with max_depth 4 = 80.15873015873017\n"
     ]
    }
   ],
   "source": [
    "hp10=DecisionTreeClassifier(criterion='gini', max_depth=4, random_state=0).fit(x_train,y_train)\n",
    "y_pred_hp10 = hp10.predict(x_test)\n",
    "print('Accuracy using CART with max_depth 4 = {}'.format(accuracy_score(y_test,y_pred_hp10)*100))"
   ]
  },
  {
   "cell_type": "code",
   "execution_count": 48,
   "id": "227750c9",
   "metadata": {},
   "outputs": [
    {
     "name": "stdout",
     "output_type": "stream",
     "text": [
      "Accuracy using CART with max_depth 5 = 83.33333333333334\n"
     ]
    }
   ],
   "source": [
    "hp11=DecisionTreeClassifier(criterion='gini', max_depth=5, random_state=0).fit(x_train,y_train)\n",
    "y_pred_hp11 = hp11.predict(x_test)\n",
    "print('Accuracy using CART with max_depth 5 = {}'.format(accuracy_score(y_test,y_pred_hp11)*100))"
   ]
  },
  {
   "cell_type": "code",
   "execution_count": 49,
   "id": "9a5206d6",
   "metadata": {},
   "outputs": [
    {
     "name": "stdout",
     "output_type": "stream",
     "text": [
      "Accuracy using CART with max_depth 6 = 81.74603174603175\n"
     ]
    }
   ],
   "source": [
    "hp12=DecisionTreeClassifier(criterion='gini', max_depth=6, random_state=0).fit(x_train,y_train)\n",
    "y_pred_hp12 = hp12.predict(x_test)\n",
    "print('Accuracy using CART with max_depth 6 = {}'.format(accuracy_score(y_test,y_pred_hp12)*100))"
   ]
  },
  {
   "cell_type": "code",
   "execution_count": 50,
   "id": "8035627b",
   "metadata": {},
   "outputs": [
    {
     "data": {
      "image/png": "[encoded data removed]",
      "text/plain": [
       "<Figure size 1080x720 with 1 Axes>"
      ]
     },
     "metadata": {
      "needs_background": "light"
     },
     "output_type": "display_data"
    }
   ],
   "source": [
    "import matplotlib.pyplot as plt\n",
    "plt.figure(figsize=(15,10))\n",
    "y=['Accuracy using ID3',\n",
    "   'Accuracy using CART',\n",
    "   'Accuracy using ID3 with best splitter',\n",
    "   'Accuracy using ID3 with random splitter',\n",
    "   'Accuracy using CART with best splitter',\n",
    "   'Accuracy using CART with random splitter',\n",
    "   'Accuracy using ID3 with max_depth 4',\n",
    "   'Accuracy using ID3 with max_depth 5',\n",
    "   'Accuracy using ID3 with max_depth 6',\n",
    "   'Accuracy using CART with max_depth 4',\n",
    "   'Accuracy using CART with max_depth 5',\n",
    "   'Accuracy using CART with max_depth 6']\n",
    " \n",
    "# getting values against each value of y\n",
    "x=[accuracy_score(y_test,y_pred_hp1)*100,\n",
    "  accuracy_score(y_test,y_pred_hp2)*100,\n",
    "  accuracy_score(y_test,y_pred_hp3)*100,\n",
    "  accuracy_score(y_test,y_pred_hp4)*100,\n",
    "  accuracy_score(y_test,y_pred_hp5)*100,\n",
    "  accuracy_score(y_test,y_pred_hp6)*100,\n",
    "  accuracy_score(y_test,y_pred_hp7)*100,\n",
    "  accuracy_score(y_test,y_pred_hp8)*100,\n",
    "  accuracy_score(y_test,y_pred_hp9)*100,\n",
    "  accuracy_score(y_test,y_pred_hp10)*100,\n",
    "  accuracy_score(y_test,y_pred_hp11)*100,\n",
    "  accuracy_score(y_test,y_pred_hp12)*100]\n",
    "plt.barh(y, x)\n",
    " \n",
    "# setting label of y-axis\n",
    "plt.ylabel(\"Tuning Parameters\", fontweight='bold', color = 'black', fontsize='20')\n",
    " \n",
    "# setting label of x-axis\n",
    "plt.xlabel(\"Accuracy\", fontweight='bold', color = 'black', fontsize='20')\n",
    "plt.title(\"Hyper Parameter Tuning of Decision Tree Classifier (70:30)\", fontweight='bold', color = 'red', fontsize='24')\n",
    "plt.show()"
   ]
  },
  {
   "cell_type": "markdown",
   "id": "0e422384",
   "metadata": {},
   "source": [
    "## Tuning Support Vector Machine"
   ]
  },
  {
   "cell_type": "code",
   "execution_count": 52,
   "id": "1fed2bdd",
   "metadata": {},
   "outputs": [],
   "source": [
    "x = data1.iloc[:,:-1]\n",
    "y = data1.iloc[:,-1]\n",
    "x_scaling = StandardScaler().fit_transform(x)"
   ]
  },
  {
   "cell_type": "markdown",
   "id": "6817e77c",
   "metadata": {},
   "source": [
    "### Changing the train, test ratio to analyse accuracy"
   ]
  },
  {
   "cell_type": "code",
   "execution_count": 53,
   "id": "08c88ad5",
   "metadata": {},
   "outputs": [
    {
     "data": {
      "text/plain": [
       "67.85714285714286"
      ]
     },
     "execution_count": 53,
     "metadata": {},
     "output_type": "execute_result"
    }
   ],
   "source": [
    "x_train, x_test, y_train, y_test = train_test_split(x_scaling, y, test_size=0.2)\n",
    "svc_rbf = SVC(kernel='rbf',degree=6).fit(x_train,y_train)\n",
    "y_pred_svc_rbf = svc_rbf.predict(x_test)\n",
    "svm1=accuracy_score(y_test,y_pred_svc_rbf)\n",
    "acc1=svm1*100\n",
    "acc1"
   ]
  },
  {
   "cell_type": "code",
   "execution_count": 54,
   "id": "9d0e56b1",
   "metadata": {},
   "outputs": [
    {
     "data": {
      "text/plain": [
       "63.49206349206349"
      ]
     },
     "execution_count": 54,
     "metadata": {},
     "output_type": "execute_result"
    }
   ],
   "source": [
    "x_train, x_test, y_train, y_test = train_test_split(x_scaling, y, test_size=0.3)\n",
    "svc_rbf = SVC(kernel='rbf',degree=6).fit(x_train,y_train)\n",
    "y_pred_svc_rbf = svc_rbf.predict(x_test)\n",
    "svm2=accuracy_score(y_test,y_pred_svc_rbf)\n",
    "acc2=svm2*100\n",
    "acc2"
   ]
  },
  {
   "cell_type": "code",
   "execution_count": 55,
   "id": "48a55686",
   "metadata": {},
   "outputs": [
    {
     "data": {
      "text/plain": [
       "69.64285714285714"
      ]
     },
     "execution_count": 55,
     "metadata": {},
     "output_type": "execute_result"
    }
   ],
   "source": [
    "x_train, x_test, y_train, y_test = train_test_split(x_scaling, y, test_size=0.4)\n",
    "svc_rbf = SVC(kernel='rbf',degree=6).fit(x_train,y_train)\n",
    "y_pred_svc_rbf = svc_rbf.predict(x_test)\n",
    "svm3=accuracy_score(y_test,y_pred_svc_rbf)\n",
    "acc3=svm3*100\n",
    "acc3"
   ]
  },
  {
   "cell_type": "code",
   "execution_count": 56,
   "id": "32f9d6f4",
   "metadata": {},
   "outputs": [
    {
     "data": {
      "text/plain": [
       "65.55023923444976"
      ]
     },
     "execution_count": 56,
     "metadata": {},
     "output_type": "execute_result"
    }
   ],
   "source": [
    "x_train, x_test, y_train, y_test = train_test_split(x_scaling, y, test_size=0.5)\n",
    "svc_rbf = SVC(kernel='rbf',degree=6).fit(x_train,y_train)\n",
    "y_pred_svc_rbf = svc_rbf.predict(x_test)\n",
    "svm4=accuracy_score(y_test,y_pred_svc_rbf)\n",
    "acc4=svm4*100\n",
    "acc4"
   ]
  },
  {
   "cell_type": "code",
   "execution_count": 57,
   "id": "0e91e2f6",
   "metadata": {},
   "outputs": [
    {
     "data": {
      "image/png": "[encoded data removed]",
      "text/plain": [
       "<Figure size 504x360 with 1 Axes>"
      ]
     },
     "metadata": {
      "needs_background": "light"
     },
     "output_type": "display_data"
    }
   ],
   "source": [
    "import matplotlib.pyplot as plt\n",
    "plt.figure(figsize=(7,5))\n",
    "y=['Accuracy (80:20)','Accuracy (70:30)', 'Accuracy (60:40)', 'Accuracy (50:50)']\n",
    " \n",
    "# getting values against each value of y\n",
    "x=[acc1, acc2, acc3, acc4]\n",
    "plt.bar(y, x)\n",
    " \n",
    "# setting label of y-axis\n",
    "plt.ylabel(\"Accuracy\", fontweight='bold', color = 'black', fontsize='20')\n",
    " \n",
    "# setting label of x-axis\n",
    "plt.xlabel(\"Tuning train-test ratio\", fontweight='bold', color = 'black', fontsize='20')\n",
    "plt.title(\"Accuracy on changing train, test ratio in SVC\", fontweight='bold', color = 'red', fontsize='24')\n",
    "plt.show()"
   ]
  },
  {
   "cell_type": "markdown",
   "id": "0fddcb92",
   "metadata": {},
   "source": [
    "### Changing Kernels - rbf, poly, linear, sigmoid"
   ]
  },
  {
   "cell_type": "code",
   "execution_count": 59,
   "id": "f6cadd32",
   "metadata": {},
   "outputs": [],
   "source": [
    "x = data1.iloc[:,:-1]\n",
    "y = data1.iloc[:,-1]\n",
    "x_scaling = StandardScaler().fit_transform(x)\n",
    "x_train, x_test, y_train, y_test = train_test_split(x_scaling, y, test_size=0.33)"
   ]
  },
  {
   "cell_type": "code",
   "execution_count": 60,
   "id": "3d2b543c",
   "metadata": {},
   "outputs": [
    {
     "name": "stdout",
     "output_type": "stream",
     "text": [
      "acc svc rbf = 64.4927536231884\n"
     ]
    }
   ],
   "source": [
    "svc_rbf = SVC(kernel='rbf',degree=6).fit(x_train,y_train)\n",
    "y_pred_svc_rbf = svc_rbf.predict(x_test)\n",
    "print('acc svc rbf = {}'.format(accuracy_score(y_test,y_pred_svc_rbf)*100))"
   ]
  },
  {
   "cell_type": "code",
   "execution_count": 61,
   "id": "90b3e318",
   "metadata": {},
   "outputs": [
    {
     "name": "stdout",
     "output_type": "stream",
     "text": [
      "acc svc poly = 62.31884057971014\n"
     ]
    }
   ],
   "source": [
    "svc_poly = SVC(kernel='poly',degree=6).fit(x_train,y_train)\n",
    "y_pred_svc_poly = svc_poly.predict(x_test)\n",
    "print('acc svc poly = {}'.format(accuracy_score(y_test,y_pred_svc_poly)*100))"
   ]
  },
  {
   "cell_type": "code",
   "execution_count": 62,
   "id": "1f28ac64",
   "metadata": {},
   "outputs": [
    {
     "name": "stdout",
     "output_type": "stream",
     "text": [
      "acc svc linear = 63.76811594202898\n"
     ]
    }
   ],
   "source": [
    "svc_linear = SVC(kernel='linear',degree=6).fit(x_train,y_train)\n",
    "y_pred_svc_linear = svc_linear.predict(x_test)\n",
    "print('acc svc linear = {}'.format(accuracy_score(y_test,y_pred_svc_linear)*100))"
   ]
  },
  {
   "cell_type": "code",
   "execution_count": 63,
   "id": "6cacecc9",
   "metadata": {},
   "outputs": [
    {
     "name": "stdout",
     "output_type": "stream",
     "text": [
      "acc svc sigmoid = 63.04347826086957\n"
     ]
    }
   ],
   "source": [
    "svc_sigmoid = SVC(kernel='sigmoid',degree=6).fit(x_train,y_train)\n",
    "y_pred_svc_sigmoid = svc_sigmoid.predict(x_test)\n",
    "print('acc svc sigmoid = {}'.format(accuracy_score(y_test,y_pred_svc_sigmoid)*100))"
   ]
  },
  {
   "cell_type": "markdown",
   "id": "f33ca557",
   "metadata": {},
   "source": [
    "### Changing degree of poly kernel"
   ]
  },
  {
   "cell_type": "code",
   "execution_count": 64,
   "id": "8d58bcb5",
   "metadata": {},
   "outputs": [
    {
     "name": "stdout",
     "output_type": "stream",
     "text": [
      "acc svc poly degree 3 = 67.3913043478261\n"
     ]
    }
   ],
   "source": [
    "svc_poly_d3 = SVC(kernel='poly',degree=3).fit(x_train,y_train)\n",
    "y_pred_svc_poly_d3 = svc_poly_d3.predict(x_test)\n",
    "print('acc svc poly degree 3 = {}'.format(accuracy_score(y_test,y_pred_svc_poly_d3)*100))"
   ]
  },
  {
   "cell_type": "code",
   "execution_count": 65,
   "id": "a4aa8140",
   "metadata": {},
   "outputs": [
    {
     "name": "stdout",
     "output_type": "stream",
     "text": [
      "acc svc poly degree 4 = 68.11594202898551\n"
     ]
    }
   ],
   "source": [
    "svc_poly_d4 = SVC(kernel='poly',degree=4).fit(x_train,y_train)\n",
    "y_pred_svc_poly_d4 = svc_poly_d4.predict(x_test)\n",
    "print('acc svc poly degree 4 = {}'.format(accuracy_score(y_test,y_pred_svc_poly_d4)*100))"
   ]
  },
  {
   "cell_type": "code",
   "execution_count": 66,
   "id": "e3122833",
   "metadata": {},
   "outputs": [
    {
     "name": "stdout",
     "output_type": "stream",
     "text": [
      "acc svc poly degree 5 = 64.4927536231884\n"
     ]
    }
   ],
   "source": [
    "svc_poly_d5 = SVC(kernel='poly',degree=5).fit(x_train,y_train)\n",
    "y_pred_svc_poly_d5 = svc_poly_d5.predict(x_test)\n",
    "print('acc svc poly degree 5 = {}'.format(accuracy_score(y_test,y_pred_svc_poly_d5)*100))"
   ]
  },
  {
   "cell_type": "code",
   "execution_count": 67,
   "id": "e746eb11",
   "metadata": {},
   "outputs": [
    {
     "name": "stdout",
     "output_type": "stream",
     "text": [
      "acc svc poly degree 6 = 62.31884057971014\n"
     ]
    }
   ],
   "source": [
    "svc_poly_d6 = SVC(kernel='poly',degree=6).fit(x_train,y_train)\n",
    "y_pred_svc_poly_d6 = svc_poly_d6.predict(x_test)\n",
    "print('acc svc poly degree 6 = {}'.format(accuracy_score(y_test,y_pred_svc_poly_d6)*100))"
   ]
  },
  {
   "cell_type": "code",
   "execution_count": 68,
   "id": "2075d40c",
   "metadata": {},
   "outputs": [
    {
     "name": "stdout",
     "output_type": "stream",
     "text": [
      "acc svc poly degree 7 = 63.76811594202898\n"
     ]
    }
   ],
   "source": [
    "svc_poly_d7 = SVC(kernel='poly',degree=7).fit(x_train,y_train)\n",
    "y_pred_svc_poly_d7 = svc_poly_d7.predict(x_test)\n",
    "print('acc svc poly degree 7 = {}'.format(accuracy_score(y_test,y_pred_svc_poly_d7)*100))"
   ]
  },
  {
   "cell_type": "code",
   "execution_count": 69,
   "id": "f3cdab9b",
   "metadata": {},
   "outputs": [
    {
     "name": "stdout",
     "output_type": "stream",
     "text": [
      "acc svc poly degree 8 = 63.76811594202898\n"
     ]
    }
   ],
   "source": [
    "svc_poly_d8 = SVC(kernel='poly',degree=8).fit(x_train,y_train)\n",
    "y_pred_svc_poly_d8 = svc_poly_d8.predict(x_test)\n",
    "print('acc svc poly degree 8 = {}'.format(accuracy_score(y_test,y_pred_svc_poly_d8)*100))"
   ]
  },
  {
   "cell_type": "code",
   "execution_count": 70,
   "id": "5880b53c",
   "metadata": {},
   "outputs": [
    {
     "name": "stdout",
     "output_type": "stream",
     "text": [
      "acc svc poly degree 9 = 64.4927536231884\n"
     ]
    }
   ],
   "source": [
    "svc_poly_d9 = SVC(kernel='poly',degree=9).fit(x_train,y_train)\n",
    "y_pred_svc_poly_d9 = svc_poly_d9.predict(x_test)\n",
    "print('acc svc poly degree 9 = {}'.format(accuracy_score(y_test,y_pred_svc_poly_d9)*100))"
   ]
  },
  {
   "cell_type": "markdown",
   "id": "b4d7f23e",
   "metadata": {},
   "source": [
    "### Changing degree of rbf kernel"
   ]
  },
  {
   "cell_type": "code",
   "execution_count": 71,
   "id": "f3d4eb99",
   "metadata": {},
   "outputs": [
    {
     "name": "stdout",
     "output_type": "stream",
     "text": [
      "acc svc rbf with degree 4 = 64.4927536231884\n"
     ]
    }
   ],
   "source": [
    "svc_rbf_d4 = SVC(kernel='rbf',degree=4).fit(x_train,y_train)\n",
    "y_pred_svc_rbf_d4 = svc_rbf_d4.predict(x_test)\n",
    "print('acc svc rbf with degree 4 = {}'.format(accuracy_score(y_test,y_pred_svc_rbf_d4)*100))"
   ]
  },
  {
   "cell_type": "code",
   "execution_count": 72,
   "id": "c40ce11a",
   "metadata": {},
   "outputs": [
    {
     "name": "stdout",
     "output_type": "stream",
     "text": [
      "acc svc rbf with degree 5 = 64.4927536231884\n"
     ]
    }
   ],
   "source": [
    "svc_rbf_d5 = SVC(kernel='rbf',degree=5).fit(x_train,y_train)\n",
    "y_pred_svc_rbf_d5 = svc_rbf_d5.predict(x_test)\n",
    "print('acc svc rbf with degree 5 = {}'.format(accuracy_score(y_test,y_pred_svc_rbf_d5)*100))"
   ]
  },
  {
   "cell_type": "code",
   "execution_count": 73,
   "id": "7dabcf1d",
   "metadata": {},
   "outputs": [
    {
     "name": "stdout",
     "output_type": "stream",
     "text": [
      "acc svc rbf with degree 6 = 64.4927536231884\n"
     ]
    }
   ],
   "source": [
    "svc_rbf_d6 = SVC(kernel='rbf',degree=6).fit(x_train,y_train)\n",
    "y_pred_svc_rbf_d6 = svc_rbf_d6.predict(x_test)\n",
    "print('acc svc rbf with degree 6 = {}'.format(accuracy_score(y_test,y_pred_svc_rbf_d6)*100))"
   ]
  },
  {
   "cell_type": "code",
   "execution_count": 74,
   "id": "c5e30048",
   "metadata": {},
   "outputs": [
    {
     "data": {
      "image/png": "[encoded data removed]",
      "text/plain": [
       "<Figure size 1080x720 with 1 Axes>"
      ]
     },
     "metadata": {
      "needs_background": "light"
     },
     "output_type": "display_data"
    }
   ],
   "source": [
    "import matplotlib.pyplot as plt\n",
    "plt.figure(figsize=(15,10))\n",
    "y=['acc svc rbf',\n",
    "   'acc svc poly',\n",
    "   'acc svc linear',\n",
    "   'acc svc sigmoid',\n",
    "   'acc svc poly degree 3',\n",
    "   'acc svc poly degree 4',\n",
    "   'acc svc poly degree 5',\n",
    "   'acc svc poly degree 6',\n",
    "   'acc svc poly degree 7',\n",
    "   'acc svc poly degree 8',\n",
    "   'acc svc poly degree 9'\n",
    "  ]\n",
    " \n",
    "# getting values against each value of y\n",
    "x=[accuracy_score(y_test,y_pred_svc_rbf)*100,\n",
    "   accuracy_score(y_test,y_pred_svc_poly)*100,\n",
    "   accuracy_score(y_test,y_pred_svc_linear)*100,\n",
    "   accuracy_score(y_test,y_pred_svc_sigmoid)*100,\n",
    "   accuracy_score(y_test,y_pred_svc_poly_d3)*100,\n",
    "   accuracy_score(y_test,y_pred_svc_poly_d4)*100,\n",
    "   accuracy_score(y_test,y_pred_svc_poly_d5)*100,\n",
    "   accuracy_score(y_test,y_pred_svc_poly_d6)*100,\n",
    "   accuracy_score(y_test,y_pred_svc_poly_d7)*100,\n",
    "   accuracy_score(y_test,y_pred_svc_poly_d8)*100,\n",
    "   accuracy_score(y_test,y_pred_svc_poly_d9)*100\n",
    "  ]\n",
    "plt.barh(y, x)\n",
    " \n",
    "# setting label of y-axis\n",
    "plt.ylabel(\"Tuning Parameters\", fontweight='bold', color = 'black', fontsize='20')\n",
    " \n",
    "# setting label of x-axis\n",
    "plt.xlabel(\"Accuracy\", fontweight='bold', color = 'black', fontsize='20')\n",
    "plt.title(\"Hyper Parameter Tuning of SVC (70:30)\", fontweight='bold', color = 'red', fontsize='24')\n",
    "plt.show()"
   ]
  },
  {
   "cell_type": "markdown",
   "id": "d7ada258",
   "metadata": {},
   "source": [
    "## Tuning Random Forest Classifier"
   ]
  },
  {
   "cell_type": "markdown",
   "id": "36529a8f",
   "metadata": {},
   "source": [
    "### Changing train, test ratio and observing the change in accuracy"
   ]
  },
  {
   "cell_type": "code",
   "execution_count": 76,
   "id": "1031a529",
   "metadata": {},
   "outputs": [],
   "source": [
    "x = data1.iloc[:,:-1]\n",
    "y = data1.iloc[:,-1]\n",
    "x_scaling = StandardScaler().fit_transform(x)"
   ]
  },
  {
   "cell_type": "code",
   "execution_count": 77,
   "id": "6d944901",
   "metadata": {},
   "outputs": [
    {
     "data": {
      "text/plain": [
       "78.57142857142857"
      ]
     },
     "execution_count": 77,
     "metadata": {},
     "output_type": "execute_result"
    }
   ],
   "source": [
    "x_train, x_test, y_train, y_test = train_test_split(x_scaling, y, test_size=0.2)\n",
    "rf = RandomForestClassifier(criterion='gini',max_depth=10, random_state=0).fit(x_train,y_train)\n",
    "y_pred_rf = rf.predict(x_test) \n",
    "rfacc1=accuracy_score(y_test,y_pred_rf)*100\n",
    "rfacc1"
   ]
  },
  {
   "cell_type": "code",
   "execution_count": 78,
   "id": "dfacd042",
   "metadata": {},
   "outputs": [
    {
     "data": {
      "text/plain": [
       "73.80952380952381"
      ]
     },
     "execution_count": 78,
     "metadata": {},
     "output_type": "execute_result"
    }
   ],
   "source": [
    "x_train, x_test, y_train, y_test = train_test_split(x_scaling, y, test_size=0.3)\n",
    "rf = RandomForestClassifier(criterion='gini',max_depth=10, random_state=0).fit(x_train,y_train)\n",
    "y_pred_rf = rf.predict(x_test) \n",
    "rfacc2=accuracy_score(y_test,y_pred_rf)*100\n",
    "rfacc2"
   ]
  },
  {
   "cell_type": "code",
   "execution_count": 79,
   "id": "b75c4931",
   "metadata": {},
   "outputs": [
    {
     "data": {
      "text/plain": [
       "77.38095238095238"
      ]
     },
     "execution_count": 79,
     "metadata": {},
     "output_type": "execute_result"
    }
   ],
   "source": [
    "x_train, x_test, y_train, y_test = train_test_split(x_scaling, y, test_size=0.4)\n",
    "rf = RandomForestClassifier(criterion='gini',max_depth=10, random_state=0).fit(x_train,y_train)\n",
    "y_pred_rf = rf.predict(x_test) \n",
    "rfacc3=accuracy_score(y_test,y_pred_rf)*100\n",
    "rfacc3"
   ]
  },
  {
   "cell_type": "code",
   "execution_count": 80,
   "id": "65306cb6",
   "metadata": {},
   "outputs": [
    {
     "data": {
      "text/plain": [
       "76.07655502392345"
      ]
     },
     "execution_count": 80,
     "metadata": {},
     "output_type": "execute_result"
    }
   ],
   "source": [
    "x_train, x_test, y_train, y_test = train_test_split(x_scaling, y, test_size=0.5)\n",
    "rf = RandomForestClassifier(criterion='gini',max_depth=10, random_state=0).fit(x_train,y_train)\n",
    "y_pred_rf = rf.predict(x_test) \n",
    "rfacc4=accuracy_score(y_test,y_pred_rf)*100\n",
    "rfacc4"
   ]
  },
  {
   "cell_type": "code",
   "execution_count": 81,
   "id": "eee615d0",
   "metadata": {},
   "outputs": [
    {
     "data": {
      "image/png": "[encoded data removed]",
      "text/plain": [
       "<Figure size 504x360 with 1 Axes>"
      ]
     },
     "metadata": {
      "needs_background": "light"
     },
     "output_type": "display_data"
    }
   ],
   "source": [
    "import matplotlib.pyplot as plt\n",
    "plt.figure(figsize=(7,5))\n",
    "y=['Accuracy (80:20)','Accuracy (70:30)', 'Accuracy (60:40)', 'Accuracy (50:50)']\n",
    " \n",
    "# getting values against each value of y\n",
    "x=[rfacc1, rfacc2, rfacc3, rfacc4]\n",
    "plt.bar(y, x)\n",
    " \n",
    "# setting label of y-axis\n",
    "plt.ylabel(\"Tuning Parameters\", fontweight='bold', color = 'black', fontsize='20')\n",
    " \n",
    "# setting label of x-axis\n",
    "plt.xlabel(\"Accuracy\", fontweight='bold', color = 'black', fontsize='20')\n",
    "plt.title(\"Accuracy on changing train, test ratio in RFC\", fontweight='bold', color = 'red', fontsize='24')\n",
    "plt.show()"
   ]
  },
  {
   "cell_type": "markdown",
   "id": "6e603f59",
   "metadata": {},
   "source": [
    "### Changing the parameters to observe its effect on accuracy of the model"
   ]
  },
  {
   "cell_type": "code",
   "execution_count": 82,
   "id": "e35c4fee",
   "metadata": {},
   "outputs": [],
   "source": [
    "x = data1.iloc[:,:-1]\n",
    "y = data1.iloc[:,-1]\n",
    "x_scaling = StandardScaler().fit_transform(x)\n",
    "x_train, x_test, y_train, y_test = train_test_split(x_scaling, y, test_size=0.3)"
   ]
  },
  {
   "cell_type": "markdown",
   "id": "0be09737",
   "metadata": {},
   "source": [
    "#### Changing the criterion parameter: gini and entropy"
   ]
  },
  {
   "cell_type": "code",
   "execution_count": 83,
   "id": "5f964918",
   "metadata": {},
   "outputs": [
    {
     "name": "stdout",
     "output_type": "stream",
     "text": [
      "acc rf with criterion: gini index = 72.22222222222221\n"
     ]
    }
   ],
   "source": [
    "rf = RandomForestClassifier(criterion='gini',max_depth=10, random_state=0).fit(x_train,y_train)\n",
    "y_pred_rf1 = rf.predict(x_test) \n",
    "print('acc rf with criterion: gini index = {}'.format(accuracy_score(y_test,y_pred_rf1)*100))"
   ]
  },
  {
   "cell_type": "code",
   "execution_count": 84,
   "id": "60181ce7",
   "metadata": {},
   "outputs": [
    {
     "name": "stdout",
     "output_type": "stream",
     "text": [
      "acc rf with criterion: entropy = 73.80952380952381\n"
     ]
    }
   ],
   "source": [
    "rf = RandomForestClassifier(criterion='entropy',max_depth=10, random_state=0).fit(x_train,y_train)\n",
    "y_pred_rf2 = rf.predict(x_test) \n",
    "print('acc rf with criterion: entropy = {}'.format(accuracy_score(y_test,y_pred_rf2)*100))"
   ]
  },
  {
   "cell_type": "markdown",
   "id": "b256aae7",
   "metadata": {},
   "source": [
    "#### Changing the max depth of the tree and analysing the accuracy"
   ]
  },
  {
   "cell_type": "code",
   "execution_count": 85,
   "id": "6ecb75ab",
   "metadata": {},
   "outputs": [
    {
     "name": "stdout",
     "output_type": "stream",
     "text": [
      "acc rf with gini and depth:15 = 70.63492063492063\n"
     ]
    }
   ],
   "source": [
    "rf = RandomForestClassifier(criterion='gini',max_depth=15, random_state=0).fit(x_train,y_train)\n",
    "y_pred_rf3 = rf.predict(x_test) \n",
    "print('acc rf with gini and depth:15 = {}'.format(accuracy_score(y_test,y_pred_rf3)*100))"
   ]
  },
  {
   "cell_type": "code",
   "execution_count": 86,
   "id": "f120354c",
   "metadata": {},
   "outputs": [
    {
     "name": "stdout",
     "output_type": "stream",
     "text": [
      "acc rf with gini and depth: 20 = 70.63492063492063\n"
     ]
    }
   ],
   "source": [
    "rf = RandomForestClassifier(criterion='gini',max_depth=20, random_state=0).fit(x_train,y_train)\n",
    "y_pred_rf4 = rf.predict(x_test) \n",
    "print('acc rf with gini and depth: 20 = {}'.format(accuracy_score(y_test,y_pred_rf4)*100))"
   ]
  },
  {
   "cell_type": "code",
   "execution_count": 87,
   "id": "58a6db69",
   "metadata": {},
   "outputs": [
    {
     "name": "stdout",
     "output_type": "stream",
     "text": [
      "acc rf with gini and depth: 25 = 70.63492063492063\n"
     ]
    }
   ],
   "source": [
    "rf = RandomForestClassifier(criterion='gini',max_depth=25, random_state=0).fit(x_train,y_train)\n",
    "y_pred_rf5 = rf.predict(x_test) \n",
    "print('acc rf with gini and depth: 25 = {}'.format(accuracy_score(y_test,y_pred_rf5)*100))"
   ]
  },
  {
   "cell_type": "code",
   "execution_count": 88,
   "id": "c2b07ec9",
   "metadata": {},
   "outputs": [
    {
     "name": "stdout",
     "output_type": "stream",
     "text": [
      "acc rf with gini and depth: 30 = 70.63492063492063\n"
     ]
    }
   ],
   "source": [
    "rf = RandomForestClassifier(criterion='gini',max_depth=30, random_state=0).fit(x_train,y_train)\n",
    "y_pred_rf6 = rf.predict(x_test) \n",
    "print('acc rf with gini and depth: 30 = {}'.format(accuracy_score(y_test,y_pred_rf6)*100))"
   ]
  },
  {
   "cell_type": "code",
   "execution_count": 89,
   "id": "2f561646",
   "metadata": {},
   "outputs": [
    {
     "name": "stdout",
     "output_type": "stream",
     "text": [
      "acc rf with gini and depth: 35 = 67.46031746031747\n"
     ]
    }
   ],
   "source": [
    "rf = RandomForestClassifier(criterion='entropy',max_depth=35, random_state=0).fit(x_train,y_train)\n",
    "y_pred_rf7 = rf.predict(x_test) \n",
    "print('acc rf with gini and depth: 35 = {}'.format(accuracy_score(y_test,y_pred_rf7)*100))"
   ]
  },
  {
   "cell_type": "code",
   "execution_count": 90,
   "id": "93c0c31c",
   "metadata": {},
   "outputs": [
    {
     "name": "stdout",
     "output_type": "stream",
     "text": [
      "acc rf with entropy and depth:15 = 68.25396825396825\n"
     ]
    }
   ],
   "source": [
    "rf = RandomForestClassifier(criterion='entropy',max_depth=15, random_state=0).fit(x_train,y_train)\n",
    "y_pred_rf8 = rf.predict(x_test) \n",
    "print('acc rf with entropy and depth:15 = {}'.format(accuracy_score(y_test,y_pred_rf8)*100))"
   ]
  },
  {
   "cell_type": "code",
   "execution_count": 91,
   "id": "6e5dd598",
   "metadata": {},
   "outputs": [
    {
     "name": "stdout",
     "output_type": "stream",
     "text": [
      "acc rf with entropy and depth: 20 = 67.46031746031747\n"
     ]
    }
   ],
   "source": [
    "rf = RandomForestClassifier(criterion='entropy',max_depth=20, random_state=0).fit(x_train,y_train)\n",
    "y_pred_rf9 = rf.predict(x_test) \n",
    "print('acc rf with entropy and depth: 20 = {}'.format(accuracy_score(y_test,y_pred_rf9)*100))"
   ]
  },
  {
   "cell_type": "code",
   "execution_count": 92,
   "id": "bf46a556",
   "metadata": {},
   "outputs": [
    {
     "name": "stdout",
     "output_type": "stream",
     "text": [
      "acc rf with entropy and depth: 25 = 67.46031746031747\n"
     ]
    }
   ],
   "source": [
    "rf = RandomForestClassifier(criterion='entropy',max_depth=25, random_state=0).fit(x_train,y_train)\n",
    "y_pred_rf10 = rf.predict(x_test) \n",
    "print('acc rf with entropy and depth: 25 = {}'.format(accuracy_score(y_test,y_pred_rf10)*100))"
   ]
  },
  {
   "cell_type": "code",
   "execution_count": 93,
   "id": "4056aa44",
   "metadata": {},
   "outputs": [
    {
     "name": "stdout",
     "output_type": "stream",
     "text": [
      "acc rf with entropy and depth: 30 = 67.46031746031747\n"
     ]
    }
   ],
   "source": [
    "rf = RandomForestClassifier(criterion='entropy',max_depth=30, random_state=0).fit(x_train,y_train)\n",
    "y_pred_rf11 = rf.predict(x_test) \n",
    "print('acc rf with entropy and depth: 30 = {}'.format(accuracy_score(y_test,y_pred_rf11)*100))"
   ]
  },
  {
   "cell_type": "code",
   "execution_count": 94,
   "id": "ce9d2ff6",
   "metadata": {},
   "outputs": [
    {
     "name": "stdout",
     "output_type": "stream",
     "text": [
      "acc rf with entropy and depth: 35 = 67.46031746031747\n"
     ]
    }
   ],
   "source": [
    "rf = RandomForestClassifier(criterion='entropy',max_depth=35, random_state=0).fit(x_train,y_train)\n",
    "y_pred_rf12 = rf.predict(x_test) \n",
    "print('acc rf with entropy and depth: 35 = {}'.format(accuracy_score(y_test,y_pred_rf12)*100))"
   ]
  },
  {
   "cell_type": "code",
   "execution_count": 95,
   "id": "3b70b066",
   "metadata": {},
   "outputs": [
    {
     "data": {
      "image/png": "[encoded data removed]",
      "text/plain": [
       "<Figure size 1080x720 with 1 Axes>"
      ]
     },
     "metadata": {
      "needs_background": "light"
     },
     "output_type": "display_data"
    }
   ],
   "source": [
    "import matplotlib.pyplot as plt\n",
    "plt.figure(figsize=(15,10))\n",
    "y=['acc rf with criterion: gini index',\n",
    "   'acc rf with criterion: entropy',\n",
    "   'acc rf with gini and depth:15',\n",
    "   'acc rf with gini and depth: 20',\n",
    "   'acc rf with gini and depth: 25',\n",
    "   'acc rf with gini and depth: 30',\n",
    "   'acc rf with gini and depth: 35',\n",
    "   'acc rf with entropy and depth:15',\n",
    "   'acc rf with entropy and depth:20',\n",
    "   'acc rf with entropy and depth:25',\n",
    "   'acc rf with entropy and depth:30',\n",
    "   'acc rf with entropy and depth:35'\n",
    "  ]\n",
    " \n",
    "# getting values against each value of y\n",
    "x=[accuracy_score(y_test,y_pred_rf1)*100,\n",
    "   accuracy_score(y_test,y_pred_rf2)*100,\n",
    "   accuracy_score(y_test,y_pred_rf3)*100,\n",
    "   accuracy_score(y_test,y_pred_rf4)*100,\n",
    "   accuracy_score(y_test,y_pred_rf5)*100,\n",
    "   accuracy_score(y_test,y_pred_rf6)*100,\n",
    "   accuracy_score(y_test,y_pred_rf7)*100,\n",
    "   accuracy_score(y_test,y_pred_rf8)*100,\n",
    "   accuracy_score(y_test,y_pred_rf9)*100,\n",
    "   accuracy_score(y_test,y_pred_rf10)*100,\n",
    "   accuracy_score(y_test,y_pred_rf11)*100,\n",
    "   accuracy_score(y_test,y_pred_rf12)*100\n",
    "  ]\n",
    "plt.barh(y, x)\n",
    " \n",
    "# setting label of y-axis\n",
    "plt.ylabel(\"Tuning Parameters\", fontweight='bold', color = 'black', fontsize='20')\n",
    " \n",
    "# setting label of x-axis\n",
    "plt.xlabel(\"Accuracy\", fontweight='bold', color = 'black', fontsize='20')\n",
    "plt.title(\"Hyper Parameter Tuning of RF (70:30)\", fontweight='bold', color = 'red', fontsize='24')\n",
    "plt.show()"
   ]
  },
  {
   "cell_type": "code",
   "execution_count": null,
   "id": "c4db1cb6",
   "metadata": {},
   "outputs": [],
   "source": []
  }
 ],
 "metadata": {
  "kernelspec": {
   "display_name": "Python 3",
   "language": "python",
   "name": "python3"
  },
  "language_info": {
   "codemirror_mode": {
    "name": "ipython",
    "version": 3
   },
   "file_extension": ".py",
   "mimetype": "text/x-python",
   "name": "python",
   "nbconvert_exporter": "python",
   "pygments_lexer": "ipython3",
   "version": "3.8.8"
  }
 },
 "nbformat": 4,
 "nbformat_minor": 5
}
